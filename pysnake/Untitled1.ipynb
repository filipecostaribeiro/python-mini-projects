{
 "cells": [
  {
   "cell_type": "markdown",
   "id": "55c0d986-ec6c-4f38-9e7b-85d8b382197a",
   "metadata": {},
   "source": [
    "# Snake Game in Terminal\n",
    "\n",
    "![Alt Text](Images/Menu.jpg)\n",
    "![Alt Text](Images/Game.jpg)\n",
    "![Alt Text](Images/Rnaking.jpg)\n",
    "## Description\n",
    "\n",
    "Welcome to the Snake Game in the terminal! This simple yet entertaining project allows you to play the classic Snake game right in your terminal. The game includes a score tracking system and a ranking feature to spice up the competition.\n",
    "\n",
    "## How to Play\n",
    "\n",
    "To start the game, execute the `snake.py` file.<br>\n",
    "Make sure you have all the necessary libraries installed by running:`pip install -r requirements.txt`<br>\n",
    "Navigate through the terminal using the numbers displayed and arrow keys to control the snake. The goal is to eat the food and grow your snake without colliding with the walls or yourself. The longer you survive and the more food you consume, the higher your score.\n",
    "\n",
    "## Score Tracking\n",
    "\n",
    "Scores are recorded and stored in the`scores.csv`file. You can check your past performance and compete with friends to reach the top of the leaderboard.\n",
    "\n",
    "## Unit Testing\n",
    "\n",
    "A set of unit tests is provided in the`test_snake.py`file, utilizing the pytest library.<br>\n",
    "Ensure that your game functions correctly by running:`pytest test_project.py`\n",
    "\n",
    "## Contact\n",
    "If you have any questions or need assistance, feel free to contact the project maintainer:<br>\n",
    "Email: filipe.costaribeiro2@gmail.com<br>\n",
    "Enjoy playing the Snake Game in your terminal! 🐍🕹️"
   ]
  },
  {
   "cell_type": "code",
   "execution_count": null,
   "id": "337f19de-1a49-4d81-9361-1ffc7ca2a598",
   "metadata": {},
   "outputs": [],
   "source": []
  }
 ],
 "metadata": {
  "kernelspec": {
   "display_name": "Python 3 (ipykernel)",
   "language": "python",
   "name": "python3"
  },
  "language_info": {
   "codemirror_mode": {
    "name": "ipython",
    "version": 3
   },
   "file_extension": ".py",
   "mimetype": "text/x-python",
   "name": "python",
   "nbconvert_exporter": "python",
   "pygments_lexer": "ipython3",
   "version": "3.11.5"
  }
 },
 "nbformat": 4,
 "nbformat_minor": 5
}
