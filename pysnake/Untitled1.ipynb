{
 "cells": [
  {
   "cell_type": "markdown",
   "id": "55c0d986-ec6c-4f38-9e7b-85d8b382197a",
   "metadata": {},
   "source": [
    "# Snake Game in Terminal\n",
    "\n",
    "[![Snake Game Demo](https://img.youtube.com/vi/unpQlmfQtxE/0.jpg)](https://youtu.be/unpQlmfQtxE)<br>\n",
    "<https://youtu.be/unpQlmfQtxE>\n",
    "\n",
    "## Description\n",
    "\n",
    "Welcome to the Snake Game in the terminal! This simple yet entertaining project allows you to play the classic Snake game right in your terminal. The game includes a score tracking system and a ranking feature to spice up the competition.\n",
    "\n",
    "## How to Play\n",
    "\n",
    "To start the game, execute the `project.py` file. Make sure you have all the necessary libraries installed by running:\n",
    "pip install -r requirements.txt<br>\n",
    "Navigate through the terminal using arrow keys to control the snake. The goal is to eat the food and grow your snake without colliding with the walls or yourself. The longer you survive and the more food you consume, the higher your score.\n",
    "\n",
    "## Score Tracking\n",
    "\n",
    "Scores are recorded and stored in the scores.csv file. You can check your past performance and compete with friends to reach the top of the leaderboard.\n",
    "\n",
    "## Unit Testing\n",
    "\n",
    "A set of unit tests is provided in the test_project.py file, utilizing the pytest library. Ensure that your game functions correctly by running the tests: pytest test_project.py\n",
    "\n",
    "## Contact\n",
    "If you have any questions or need assistance, feel free to contact the project maintainer:\n",
    "\n",
    "Email: filipe.costaribeiro2@gmail.com\n",
    "Enjoy playing the Snake Game in your terminal! 🐍🕹️"
   ]
  },
  {
   "cell_type": "code",
   "execution_count": null,
   "id": "44d41635-9184-4fd1-ab80-cead4d369188",
   "metadata": {},
   "outputs": [],
   "source": []
  }
 ],
 "metadata": {
  "kernelspec": {
   "display_name": "Python 3 (ipykernel)",
   "language": "python",
   "name": "python3"
  },
  "language_info": {
   "codemirror_mode": {
    "name": "ipython",
    "version": 3
   },
   "file_extension": ".py",
   "mimetype": "text/x-python",
   "name": "python",
   "nbconvert_exporter": "python",
   "pygments_lexer": "ipython3",
   "version": "3.11.5"
  }
 },
 "nbformat": 4,
 "nbformat_minor": 5
}
